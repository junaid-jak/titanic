{
 "cells": [
  {
   "cell_type": "code",
   "execution_count": 1,
   "id": "6b8f0960",
   "metadata": {
    "_cell_guid": "b1076dfc-b9ad-4769-8c92-a6c4dae69d19",
    "_uuid": "8f2839f25d086af736a60e9eeb907d3b93b6e0e5",
    "execution": {
     "iopub.execute_input": "2022-10-23T18:25:56.595840Z",
     "iopub.status.busy": "2022-10-23T18:25:56.594902Z",
     "iopub.status.idle": "2022-10-23T18:25:56.614412Z",
     "shell.execute_reply": "2022-10-23T18:25:56.612258Z"
    },
    "papermill": {
     "duration": 0.030916,
     "end_time": "2022-10-23T18:25:56.617885",
     "exception": false,
     "start_time": "2022-10-23T18:25:56.586969",
     "status": "completed"
    },
    "tags": []
   },
   "outputs": [
    {
     "name": "stdout",
     "output_type": "stream",
     "text": [
      "/kaggle/input/titanic/train.csv\n",
      "/kaggle/input/titanic/test.csv\n",
      "/kaggle/input/titanic/gender_submission.csv\n"
     ]
    }
   ],
   "source": [
    "# This Python 3 environment comes with many helpful analytics libraries installed\n",
    "# It is defined by the kaggle/python Docker image: https://github.com/kaggle/docker-python\n",
    "# For example, here's several helpful packages to load\n",
    "\n",
    "import numpy as np # linear algebra\n",
    "import pandas as pd # data processing, CSV file I/O (e.g. pd.read_csv)\n",
    "\n",
    "# Input data files are available in the read-only \"../input/\" directory\n",
    "# For example, running this (by clicking run or pressing Shift+Enter) will list all files under the input directory\n",
    "\n",
    "import os\n",
    "for dirname, _, filenames in os.walk('/kaggle/input'):\n",
    "    for filename in filenames:\n",
    "        print(os.path.join(dirname, filename))\n",
    "\n",
    "# You can write up to 20GB to the current directory (/kaggle/working/) that gets preserved as output when you create a version using \"Save & Run All\" \n",
    "# You can also write temporary files to /kaggle/temp/, but they won't be saved outside of the current session"
   ]
  },
  {
   "cell_type": "code",
   "execution_count": 2,
   "id": "f7c4a72e",
   "metadata": {
    "execution": {
     "iopub.execute_input": "2022-10-23T18:25:56.629896Z",
     "iopub.status.busy": "2022-10-23T18:25:56.629173Z",
     "iopub.status.idle": "2022-10-23T18:25:56.634539Z",
     "shell.execute_reply": "2022-10-23T18:25:56.633043Z"
    },
    "papermill": {
     "duration": 0.014046,
     "end_time": "2022-10-23T18:25:56.637066",
     "exception": false,
     "start_time": "2022-10-23T18:25:56.623020",
     "status": "completed"
    },
    "tags": []
   },
   "outputs": [],
   "source": [
    "import numpy as np\n",
    "import pandas as pd"
   ]
  },
  {
   "cell_type": "code",
   "execution_count": 3,
   "id": "de413bdc",
   "metadata": {
    "execution": {
     "iopub.execute_input": "2022-10-23T18:25:56.649077Z",
     "iopub.status.busy": "2022-10-23T18:25:56.648670Z",
     "iopub.status.idle": "2022-10-23T18:25:56.696891Z",
     "shell.execute_reply": "2022-10-23T18:25:56.695569Z"
    },
    "papermill": {
     "duration": 0.057177,
     "end_time": "2022-10-23T18:25:56.699449",
     "exception": false,
     "start_time": "2022-10-23T18:25:56.642272",
     "status": "completed"
    },
    "tags": []
   },
   "outputs": [
    {
     "data": {
      "text/html": [
       "<div>\n",
       "<style scoped>\n",
       "    .dataframe tbody tr th:only-of-type {\n",
       "        vertical-align: middle;\n",
       "    }\n",
       "\n",
       "    .dataframe tbody tr th {\n",
       "        vertical-align: top;\n",
       "    }\n",
       "\n",
       "    .dataframe thead th {\n",
       "        text-align: right;\n",
       "    }\n",
       "</style>\n",
       "<table border=\"1\" class=\"dataframe\">\n",
       "  <thead>\n",
       "    <tr style=\"text-align: right;\">\n",
       "      <th></th>\n",
       "      <th>PassengerId</th>\n",
       "      <th>Survived</th>\n",
       "      <th>Pclass</th>\n",
       "      <th>Name</th>\n",
       "      <th>Sex</th>\n",
       "      <th>Age</th>\n",
       "      <th>SibSp</th>\n",
       "      <th>Parch</th>\n",
       "      <th>Ticket</th>\n",
       "      <th>Fare</th>\n",
       "      <th>Cabin</th>\n",
       "      <th>Embarked</th>\n",
       "    </tr>\n",
       "  </thead>\n",
       "  <tbody>\n",
       "    <tr>\n",
       "      <th>0</th>\n",
       "      <td>1</td>\n",
       "      <td>0</td>\n",
       "      <td>3</td>\n",
       "      <td>Braund, Mr. Owen Harris</td>\n",
       "      <td>male</td>\n",
       "      <td>22.0</td>\n",
       "      <td>1</td>\n",
       "      <td>0</td>\n",
       "      <td>A/5 21171</td>\n",
       "      <td>7.2500</td>\n",
       "      <td>NaN</td>\n",
       "      <td>S</td>\n",
       "    </tr>\n",
       "    <tr>\n",
       "      <th>1</th>\n",
       "      <td>2</td>\n",
       "      <td>1</td>\n",
       "      <td>1</td>\n",
       "      <td>Cumings, Mrs. John Bradley (Florence Briggs Th...</td>\n",
       "      <td>female</td>\n",
       "      <td>38.0</td>\n",
       "      <td>1</td>\n",
       "      <td>0</td>\n",
       "      <td>PC 17599</td>\n",
       "      <td>71.2833</td>\n",
       "      <td>C85</td>\n",
       "      <td>C</td>\n",
       "    </tr>\n",
       "    <tr>\n",
       "      <th>2</th>\n",
       "      <td>3</td>\n",
       "      <td>1</td>\n",
       "      <td>3</td>\n",
       "      <td>Heikkinen, Miss. Laina</td>\n",
       "      <td>female</td>\n",
       "      <td>26.0</td>\n",
       "      <td>0</td>\n",
       "      <td>0</td>\n",
       "      <td>STON/O2. 3101282</td>\n",
       "      <td>7.9250</td>\n",
       "      <td>NaN</td>\n",
       "      <td>S</td>\n",
       "    </tr>\n",
       "  </tbody>\n",
       "</table>\n",
       "</div>"
      ],
      "text/plain": [
       "   PassengerId  Survived  Pclass  \\\n",
       "0            1         0       3   \n",
       "1            2         1       1   \n",
       "2            3         1       3   \n",
       "\n",
       "                                                Name     Sex   Age  SibSp  \\\n",
       "0                            Braund, Mr. Owen Harris    male  22.0      1   \n",
       "1  Cumings, Mrs. John Bradley (Florence Briggs Th...  female  38.0      1   \n",
       "2                             Heikkinen, Miss. Laina  female  26.0      0   \n",
       "\n",
       "   Parch            Ticket     Fare Cabin Embarked  \n",
       "0      0         A/5 21171   7.2500   NaN        S  \n",
       "1      0          PC 17599  71.2833   C85        C  \n",
       "2      0  STON/O2. 3101282   7.9250   NaN        S  "
      ]
     },
     "execution_count": 3,
     "metadata": {},
     "output_type": "execute_result"
    }
   ],
   "source": [
    "train_data = pd.read_csv(\"/kaggle/input/titanic/train.csv\")\n",
    "train_data.head(3)"
   ]
  },
  {
   "cell_type": "code",
   "execution_count": 4,
   "id": "85e1ba04",
   "metadata": {
    "execution": {
     "iopub.execute_input": "2022-10-23T18:25:56.712070Z",
     "iopub.status.busy": "2022-10-23T18:25:56.711260Z",
     "iopub.status.idle": "2022-10-23T18:25:56.723400Z",
     "shell.execute_reply": "2022-10-23T18:25:56.721910Z"
    },
    "papermill": {
     "duration": 0.021715,
     "end_time": "2022-10-23T18:25:56.726253",
     "exception": false,
     "start_time": "2022-10-23T18:25:56.704538",
     "status": "completed"
    },
    "tags": []
   },
   "outputs": [],
   "source": [
    "test_data = pd.read_csv(\"/kaggle/input/titanic/test.csv\")\n"
   ]
  },
  {
   "cell_type": "code",
   "execution_count": 5,
   "id": "c643ff62",
   "metadata": {
    "execution": {
     "iopub.execute_input": "2022-10-23T18:25:56.738120Z",
     "iopub.status.busy": "2022-10-23T18:25:56.737674Z",
     "iopub.status.idle": "2022-10-23T18:25:56.754241Z",
     "shell.execute_reply": "2022-10-23T18:25:56.753313Z"
    },
    "papermill": {
     "duration": 0.025926,
     "end_time": "2022-10-23T18:25:56.757350",
     "exception": false,
     "start_time": "2022-10-23T18:25:56.731424",
     "status": "completed"
    },
    "tags": []
   },
   "outputs": [
    {
     "data": {
      "text/html": [
       "<div>\n",
       "<style scoped>\n",
       "    .dataframe tbody tr th:only-of-type {\n",
       "        vertical-align: middle;\n",
       "    }\n",
       "\n",
       "    .dataframe tbody tr th {\n",
       "        vertical-align: top;\n",
       "    }\n",
       "\n",
       "    .dataframe thead th {\n",
       "        text-align: right;\n",
       "    }\n",
       "</style>\n",
       "<table border=\"1\" class=\"dataframe\">\n",
       "  <thead>\n",
       "    <tr style=\"text-align: right;\">\n",
       "      <th></th>\n",
       "      <th>PassengerId</th>\n",
       "      <th>Pclass</th>\n",
       "      <th>Name</th>\n",
       "      <th>Sex</th>\n",
       "      <th>Age</th>\n",
       "      <th>SibSp</th>\n",
       "      <th>Parch</th>\n",
       "      <th>Ticket</th>\n",
       "      <th>Fare</th>\n",
       "      <th>Cabin</th>\n",
       "      <th>Embarked</th>\n",
       "    </tr>\n",
       "  </thead>\n",
       "  <tbody>\n",
       "    <tr>\n",
       "      <th>0</th>\n",
       "      <td>892</td>\n",
       "      <td>3</td>\n",
       "      <td>Kelly, Mr. James</td>\n",
       "      <td>male</td>\n",
       "      <td>34.5</td>\n",
       "      <td>0</td>\n",
       "      <td>0</td>\n",
       "      <td>330911</td>\n",
       "      <td>7.8292</td>\n",
       "      <td>NaN</td>\n",
       "      <td>Q</td>\n",
       "    </tr>\n",
       "    <tr>\n",
       "      <th>1</th>\n",
       "      <td>893</td>\n",
       "      <td>3</td>\n",
       "      <td>Wilkes, Mrs. James (Ellen Needs)</td>\n",
       "      <td>female</td>\n",
       "      <td>47.0</td>\n",
       "      <td>1</td>\n",
       "      <td>0</td>\n",
       "      <td>363272</td>\n",
       "      <td>7.0000</td>\n",
       "      <td>NaN</td>\n",
       "      <td>S</td>\n",
       "    </tr>\n",
       "    <tr>\n",
       "      <th>2</th>\n",
       "      <td>894</td>\n",
       "      <td>2</td>\n",
       "      <td>Myles, Mr. Thomas Francis</td>\n",
       "      <td>male</td>\n",
       "      <td>62.0</td>\n",
       "      <td>0</td>\n",
       "      <td>0</td>\n",
       "      <td>240276</td>\n",
       "      <td>9.6875</td>\n",
       "      <td>NaN</td>\n",
       "      <td>Q</td>\n",
       "    </tr>\n",
       "    <tr>\n",
       "      <th>3</th>\n",
       "      <td>895</td>\n",
       "      <td>3</td>\n",
       "      <td>Wirz, Mr. Albert</td>\n",
       "      <td>male</td>\n",
       "      <td>27.0</td>\n",
       "      <td>0</td>\n",
       "      <td>0</td>\n",
       "      <td>315154</td>\n",
       "      <td>8.6625</td>\n",
       "      <td>NaN</td>\n",
       "      <td>S</td>\n",
       "    </tr>\n",
       "    <tr>\n",
       "      <th>4</th>\n",
       "      <td>896</td>\n",
       "      <td>3</td>\n",
       "      <td>Hirvonen, Mrs. Alexander (Helga E Lindqvist)</td>\n",
       "      <td>female</td>\n",
       "      <td>22.0</td>\n",
       "      <td>1</td>\n",
       "      <td>1</td>\n",
       "      <td>3101298</td>\n",
       "      <td>12.2875</td>\n",
       "      <td>NaN</td>\n",
       "      <td>S</td>\n",
       "    </tr>\n",
       "  </tbody>\n",
       "</table>\n",
       "</div>"
      ],
      "text/plain": [
       "   PassengerId  Pclass                                          Name     Sex  \\\n",
       "0          892       3                              Kelly, Mr. James    male   \n",
       "1          893       3              Wilkes, Mrs. James (Ellen Needs)  female   \n",
       "2          894       2                     Myles, Mr. Thomas Francis    male   \n",
       "3          895       3                              Wirz, Mr. Albert    male   \n",
       "4          896       3  Hirvonen, Mrs. Alexander (Helga E Lindqvist)  female   \n",
       "\n",
       "    Age  SibSp  Parch   Ticket     Fare Cabin Embarked  \n",
       "0  34.5      0      0   330911   7.8292   NaN        Q  \n",
       "1  47.0      1      0   363272   7.0000   NaN        S  \n",
       "2  62.0      0      0   240276   9.6875   NaN        Q  \n",
       "3  27.0      0      0   315154   8.6625   NaN        S  \n",
       "4  22.0      1      1  3101298  12.2875   NaN        S  "
      ]
     },
     "execution_count": 5,
     "metadata": {},
     "output_type": "execute_result"
    }
   ],
   "source": [
    "test_data.head()"
   ]
  },
  {
   "cell_type": "code",
   "execution_count": 6,
   "id": "47aa4c05",
   "metadata": {
    "execution": {
     "iopub.execute_input": "2022-10-23T18:25:56.769842Z",
     "iopub.status.busy": "2022-10-23T18:25:56.769419Z",
     "iopub.status.idle": "2022-10-23T18:25:56.781856Z",
     "shell.execute_reply": "2022-10-23T18:25:56.780632Z"
    },
    "papermill": {
     "duration": 0.021985,
     "end_time": "2022-10-23T18:25:56.784701",
     "exception": false,
     "start_time": "2022-10-23T18:25:56.762716",
     "status": "completed"
    },
    "tags": []
   },
   "outputs": [],
   "source": [
    "women = train_data.loc[train_data.Sex == 'female'][\"Survived\"]"
   ]
  },
  {
   "cell_type": "code",
   "execution_count": 7,
   "id": "b7ca3f91",
   "metadata": {
    "execution": {
     "iopub.execute_input": "2022-10-23T18:25:56.797304Z",
     "iopub.status.busy": "2022-10-23T18:25:56.796848Z",
     "iopub.status.idle": "2022-10-23T18:25:56.807066Z",
     "shell.execute_reply": "2022-10-23T18:25:56.805191Z"
    },
    "papermill": {
     "duration": 0.019804,
     "end_time": "2022-10-23T18:25:56.810045",
     "exception": false,
     "start_time": "2022-10-23T18:25:56.790241",
     "status": "completed"
    },
    "tags": []
   },
   "outputs": [
    {
     "data": {
      "text/plain": [
       "1      1\n",
       "2      1\n",
       "3      1\n",
       "8      1\n",
       "9      1\n",
       "      ..\n",
       "880    1\n",
       "882    0\n",
       "885    0\n",
       "887    1\n",
       "888    0\n",
       "Name: Survived, Length: 314, dtype: int64"
      ]
     },
     "execution_count": 7,
     "metadata": {},
     "output_type": "execute_result"
    }
   ],
   "source": [
    "women"
   ]
  },
  {
   "cell_type": "code",
   "execution_count": 8,
   "id": "3e8d70b6",
   "metadata": {
    "execution": {
     "iopub.execute_input": "2022-10-23T18:25:56.823749Z",
     "iopub.status.busy": "2022-10-23T18:25:56.822882Z",
     "iopub.status.idle": "2022-10-23T18:25:56.829971Z",
     "shell.execute_reply": "2022-10-23T18:25:56.828897Z"
    },
    "papermill": {
     "duration": 0.016625,
     "end_time": "2022-10-23T18:25:56.832256",
     "exception": false,
     "start_time": "2022-10-23T18:25:56.815631",
     "status": "completed"
    },
    "tags": []
   },
   "outputs": [
    {
     "data": {
      "text/plain": [
       "233"
      ]
     },
     "execution_count": 8,
     "metadata": {},
     "output_type": "execute_result"
    }
   ],
   "source": [
    "sum(women)"
   ]
  },
  {
   "cell_type": "code",
   "execution_count": 9,
   "id": "0b37fa84",
   "metadata": {
    "execution": {
     "iopub.execute_input": "2022-10-23T18:25:56.844725Z",
     "iopub.status.busy": "2022-10-23T18:25:56.844319Z",
     "iopub.status.idle": "2022-10-23T18:25:56.849881Z",
     "shell.execute_reply": "2022-10-23T18:25:56.848617Z"
    },
    "papermill": {
     "duration": 0.015551,
     "end_time": "2022-10-23T18:25:56.853187",
     "exception": false,
     "start_time": "2022-10-23T18:25:56.837636",
     "status": "completed"
    },
    "tags": []
   },
   "outputs": [
    {
     "name": "stdout",
     "output_type": "stream",
     "text": [
      "% of women who survived: 0.7420382165605095\n"
     ]
    }
   ],
   "source": [
    "rate_women = sum(women)/len(women)\n",
    "\n",
    "print(\"% of women who survived:\", rate_women)"
   ]
  },
  {
   "cell_type": "code",
   "execution_count": 10,
   "id": "f8772727",
   "metadata": {
    "execution": {
     "iopub.execute_input": "2022-10-23T18:25:56.865645Z",
     "iopub.status.busy": "2022-10-23T18:25:56.865234Z",
     "iopub.status.idle": "2022-10-23T18:25:56.872519Z",
     "shell.execute_reply": "2022-10-23T18:25:56.871341Z"
    },
    "papermill": {
     "duration": 0.016955,
     "end_time": "2022-10-23T18:25:56.875434",
     "exception": false,
     "start_time": "2022-10-23T18:25:56.858479",
     "status": "completed"
    },
    "tags": []
   },
   "outputs": [
    {
     "name": "stdout",
     "output_type": "stream",
     "text": [
      "% of men who survived: 0.18890814558058924\n"
     ]
    }
   ],
   "source": [
    "men = train_data.loc[train_data.Sex == 'male'][\"Survived\"]\n",
    "rate_men = sum(men)/len(men)\n",
    "\n",
    "print(\"% of men who survived:\", rate_men)"
   ]
  },
  {
   "cell_type": "code",
   "execution_count": 11,
   "id": "d62ba989",
   "metadata": {
    "execution": {
     "iopub.execute_input": "2022-10-23T18:25:56.890194Z",
     "iopub.status.busy": "2022-10-23T18:25:56.889812Z",
     "iopub.status.idle": "2022-10-23T18:25:58.275718Z",
     "shell.execute_reply": "2022-10-23T18:25:58.274497Z"
    },
    "papermill": {
     "duration": 1.396343,
     "end_time": "2022-10-23T18:25:58.278688",
     "exception": false,
     "start_time": "2022-10-23T18:25:56.882345",
     "status": "completed"
    },
    "tags": []
   },
   "outputs": [],
   "source": [
    "from sklearn.ensemble import RandomForestClassifier\n"
   ]
  },
  {
   "cell_type": "code",
   "execution_count": 12,
   "id": "764d7f60",
   "metadata": {
    "execution": {
     "iopub.execute_input": "2022-10-23T18:25:58.292356Z",
     "iopub.status.busy": "2022-10-23T18:25:58.291953Z",
     "iopub.status.idle": "2022-10-23T18:25:58.297334Z",
     "shell.execute_reply": "2022-10-23T18:25:58.295848Z"
    },
    "papermill": {
     "duration": 0.015782,
     "end_time": "2022-10-23T18:25:58.300482",
     "exception": false,
     "start_time": "2022-10-23T18:25:58.284700",
     "status": "completed"
    },
    "tags": []
   },
   "outputs": [],
   "source": [
    "y = train_data[\"Survived\"]"
   ]
  },
  {
   "cell_type": "code",
   "execution_count": 13,
   "id": "be0227ea",
   "metadata": {
    "execution": {
     "iopub.execute_input": "2022-10-23T18:25:58.317257Z",
     "iopub.status.busy": "2022-10-23T18:25:58.316686Z",
     "iopub.status.idle": "2022-10-23T18:25:58.342666Z",
     "shell.execute_reply": "2022-10-23T18:25:58.341247Z"
    },
    "papermill": {
     "duration": 0.037704,
     "end_time": "2022-10-23T18:25:58.345927",
     "exception": false,
     "start_time": "2022-10-23T18:25:58.308223",
     "status": "completed"
    },
    "tags": []
   },
   "outputs": [],
   "source": [
    "features = [\"Pclass\", \"Sex\", \"SibSp\", \"Parch\"]\n",
    "X = pd.get_dummies(train_data[features])\n",
    "X_test = pd.get_dummies(test_data[features])"
   ]
  },
  {
   "cell_type": "code",
   "execution_count": 14,
   "id": "25504e85",
   "metadata": {
    "execution": {
     "iopub.execute_input": "2022-10-23T18:25:58.360369Z",
     "iopub.status.busy": "2022-10-23T18:25:58.359386Z",
     "iopub.status.idle": "2022-10-23T18:25:58.560523Z",
     "shell.execute_reply": "2022-10-23T18:25:58.559189Z"
    },
    "papermill": {
     "duration": 0.210857,
     "end_time": "2022-10-23T18:25:58.563176",
     "exception": false,
     "start_time": "2022-10-23T18:25:58.352319",
     "status": "completed"
    },
    "tags": []
   },
   "outputs": [],
   "source": [
    "model = RandomForestClassifier(n_estimators=100, max_depth=5, random_state=1)\n",
    "model.fit(X, y)\n",
    "predictions = model.predict(X_test)\n"
   ]
  },
  {
   "cell_type": "code",
   "execution_count": 15,
   "id": "1ab94edb",
   "metadata": {
    "execution": {
     "iopub.execute_input": "2022-10-23T18:25:58.575797Z",
     "iopub.status.busy": "2022-10-23T18:25:58.575389Z",
     "iopub.status.idle": "2022-10-23T18:25:58.585793Z",
     "shell.execute_reply": "2022-10-23T18:25:58.584468Z"
    },
    "papermill": {
     "duration": 0.019925,
     "end_time": "2022-10-23T18:25:58.588633",
     "exception": false,
     "start_time": "2022-10-23T18:25:58.568708",
     "status": "completed"
    },
    "tags": []
   },
   "outputs": [],
   "source": [
    "output = pd.DataFrame({'PassengerId': test_data.PassengerId, 'Survived': predictions})\n",
    "output.to_csv('submission.csv', index=False)\n"
   ]
  },
  {
   "cell_type": "code",
   "execution_count": 16,
   "id": "85a3bffa",
   "metadata": {
    "execution": {
     "iopub.execute_input": "2022-10-23T18:25:58.604533Z",
     "iopub.status.busy": "2022-10-23T18:25:58.604132Z",
     "iopub.status.idle": "2022-10-23T18:25:58.614433Z",
     "shell.execute_reply": "2022-10-23T18:25:58.613231Z"
    },
    "papermill": {
     "duration": 0.021022,
     "end_time": "2022-10-23T18:25:58.617238",
     "exception": false,
     "start_time": "2022-10-23T18:25:58.596216",
     "status": "completed"
    },
    "tags": []
   },
   "outputs": [
    {
     "data": {
      "text/html": [
       "<div>\n",
       "<style scoped>\n",
       "    .dataframe tbody tr th:only-of-type {\n",
       "        vertical-align: middle;\n",
       "    }\n",
       "\n",
       "    .dataframe tbody tr th {\n",
       "        vertical-align: top;\n",
       "    }\n",
       "\n",
       "    .dataframe thead th {\n",
       "        text-align: right;\n",
       "    }\n",
       "</style>\n",
       "<table border=\"1\" class=\"dataframe\">\n",
       "  <thead>\n",
       "    <tr style=\"text-align: right;\">\n",
       "      <th></th>\n",
       "      <th>PassengerId</th>\n",
       "      <th>Survived</th>\n",
       "    </tr>\n",
       "  </thead>\n",
       "  <tbody>\n",
       "    <tr>\n",
       "      <th>0</th>\n",
       "      <td>892</td>\n",
       "      <td>0</td>\n",
       "    </tr>\n",
       "    <tr>\n",
       "      <th>1</th>\n",
       "      <td>893</td>\n",
       "      <td>1</td>\n",
       "    </tr>\n",
       "    <tr>\n",
       "      <th>2</th>\n",
       "      <td>894</td>\n",
       "      <td>0</td>\n",
       "    </tr>\n",
       "    <tr>\n",
       "      <th>3</th>\n",
       "      <td>895</td>\n",
       "      <td>0</td>\n",
       "    </tr>\n",
       "    <tr>\n",
       "      <th>4</th>\n",
       "      <td>896</td>\n",
       "      <td>1</td>\n",
       "    </tr>\n",
       "  </tbody>\n",
       "</table>\n",
       "</div>"
      ],
      "text/plain": [
       "   PassengerId  Survived\n",
       "0          892         0\n",
       "1          893         1\n",
       "2          894         0\n",
       "3          895         0\n",
       "4          896         1"
      ]
     },
     "execution_count": 16,
     "metadata": {},
     "output_type": "execute_result"
    }
   ],
   "source": [
    "output.head()"
   ]
  }
 ],
 "metadata": {
  "kernelspec": {
   "display_name": "Python 3 (ipykernel)",
   "language": "python",
   "name": "python3"
  },
  "language_info": {
   "codemirror_mode": {
    "name": "ipython",
    "version": 3
   },
   "file_extension": ".py",
   "mimetype": "text/x-python",
   "name": "python",
   "nbconvert_exporter": "python",
   "pygments_lexer": "ipython3",
   "version": "3.11.3"
  },
  "papermill": {
   "default_parameters": {},
   "duration": 12.036311,
   "end_time": "2022-10-23T18:25:59.344629",
   "environment_variables": {},
   "exception": null,
   "input_path": "__notebook__.ipynb",
   "output_path": "__notebook__.ipynb",
   "parameters": {},
   "start_time": "2022-10-23T18:25:47.308318",
   "version": "2.3.4"
  }
 },
 "nbformat": 4,
 "nbformat_minor": 5
}
